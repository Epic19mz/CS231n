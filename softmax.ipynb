{
 "cells": [
  {
   "cell_type": "markdown",
   "metadata": {},
   "source": [
    "# Softmax exercise\n",
    "\n",
    "*Complete and hand in this completed worksheet (including its outputs and any supporting code outside of the worksheet) with your assignment submission. For more details see the [assignments page](http://vision.stanford.edu/teaching/cs231n/assignments.html) on the course website.*\n",
    "\n",
    "This exercise is analogous to the SVM exercise. You will:\n",
    "\n",
    "- implement a fully-vectorized **loss function** for the Softmax classifier\n",
    "- implement the fully-vectorized expression for its **analytic gradient**\n",
    "- **check your implementation** with numerical gradient\n",
    "- use a validation set to **tune the learning rate and regularization** strength\n",
    "- **optimize** the loss function with **SGD**\n",
    "- **visualize** the final learned weights\n"
   ]
  },
  {
   "cell_type": "code",
   "execution_count": 1,
   "metadata": {},
   "outputs": [],
   "source": [
    "import random\n",
    "import numpy as np\n",
    "from cs231n.data_utils import load_CIFAR10\n",
    "import matplotlib.pyplot as plt\n",
    "\n",
    "from __future__ import print_function\n",
    "\n",
    "%matplotlib inline\n",
    "plt.rcParams['figure.figsize'] = (10.0, 8.0) # set default size of plots\n",
    "plt.rcParams['image.interpolation'] = 'nearest'\n",
    "plt.rcParams['image.cmap'] = 'gray'\n",
    "\n",
    "# for auto-reloading extenrnal modules\n",
    "# see http://stackoverflow.com/questions/1907993/autoreload-of-modules-in-ipython\n",
    "%load_ext autoreload\n",
    "%autoreload 2"
   ]
  },
  {
   "cell_type": "code",
   "execution_count": 2,
   "metadata": {},
   "outputs": [
    {
     "name": "stdout",
     "output_type": "stream",
     "text": [
      "Train data shape:  (49000, 3073)\n",
      "Train labels shape:  (49000,)\n",
      "Validation data shape:  (1000, 3073)\n",
      "Validation labels shape:  (1000,)\n",
      "Test data shape:  (1000, 3073)\n",
      "Test labels shape:  (1000,)\n",
      "dev data shape:  (500, 3073)\n",
      "dev labels shape:  (500,)\n"
     ]
    }
   ],
   "source": [
    "def get_CIFAR10_data(num_training=49000, num_validation=1000, num_test=1000, num_dev=500):\n",
    "    \"\"\"\n",
    "    Load the CIFAR-10 dataset from disk and perform preprocessing to prepare\n",
    "    it for the linear classifier. These are the same steps as we used for the\n",
    "    SVM, but condensed to a single function.  \n",
    "    \"\"\"\n",
    "    # Load the raw CIFAR-10 data\n",
    "    cifar10_dir = 'cs231n/datasets/cifar-10-batches-py'\n",
    "    X_train, y_train, X_test, y_test = load_CIFAR10(cifar10_dir)\n",
    "    \n",
    "    # subsample the data\n",
    "    mask = list(range(num_training, num_training + num_validation))\n",
    "    X_val = X_train[mask]\n",
    "    y_val = y_train[mask]\n",
    "    mask = list(range(num_training))\n",
    "    X_train = X_train[mask]\n",
    "    y_train = y_train[mask]\n",
    "    mask = list(range(num_test))\n",
    "    X_test = X_test[mask]\n",
    "    y_test = y_test[mask]\n",
    "    mask = np.random.choice(num_training, num_dev, replace=False)\n",
    "    X_dev = X_train[mask]\n",
    "    y_dev = y_train[mask]\n",
    "    \n",
    "    # Preprocessing: reshape the image data into rows\n",
    "    X_train = np.reshape(X_train, (X_train.shape[0], -1))\n",
    "    X_val = np.reshape(X_val, (X_val.shape[0], -1))\n",
    "    X_test = np.reshape(X_test, (X_test.shape[0], -1))\n",
    "    X_dev = np.reshape(X_dev, (X_dev.shape[0], -1))\n",
    "    \n",
    "    # Normalize the data: subtract the mean image\n",
    "    mean_image = np.mean(X_train, axis = 0)\n",
    "    X_train -= mean_image\n",
    "    X_val -= mean_image\n",
    "    X_test -= mean_image\n",
    "    X_dev -= mean_image\n",
    "    \n",
    "    # add bias dimension and transform into columns\n",
    "    X_train = np.hstack([X_train, np.ones((X_train.shape[0], 1))])\n",
    "    X_val = np.hstack([X_val, np.ones((X_val.shape[0], 1))])\n",
    "    X_test = np.hstack([X_test, np.ones((X_test.shape[0], 1))])\n",
    "    X_dev = np.hstack([X_dev, np.ones((X_dev.shape[0], 1))])\n",
    "    \n",
    "    return X_train, y_train, X_val, y_val, X_test, y_test, X_dev, y_dev\n",
    "\n",
    "\n",
    "# Invoke the above function to get our data.\n",
    "X_train, y_train, X_val, y_val, X_test, y_test, X_dev, y_dev = get_CIFAR10_data()\n",
    "print('Train data shape: ', X_train.shape)\n",
    "print('Train labels shape: ', y_train.shape)\n",
    "print('Validation data shape: ', X_val.shape)\n",
    "print('Validation labels shape: ', y_val.shape)\n",
    "print('Test data shape: ', X_test.shape)\n",
    "print('Test labels shape: ', y_test.shape)\n",
    "print('dev data shape: ', X_dev.shape)\n",
    "print('dev labels shape: ', y_dev.shape)"
   ]
  },
  {
   "cell_type": "markdown",
   "metadata": {},
   "source": [
    "## Softmax Classifier\n",
    "\n",
    "Your code for this section will all be written inside **cs231n/classifiers/softmax.py**. \n"
   ]
  },
  {
   "cell_type": "code",
   "execution_count": 5,
   "metadata": {},
   "outputs": [
    {
     "name": "stdout",
     "output_type": "stream",
     "text": [
      "loss: 2.328692\n",
      "sanity check: 2.302585\n"
     ]
    }
   ],
   "source": [
    "# First implement the naive softmax loss function with nested loops.\n",
    "# Open the file cs231n/classifiers/softmax.py and implement the\n",
    "# softmax_loss_naive function.\n",
    "\n",
    "from cs231n.classifiers.softmax import softmax_loss_naive\n",
    "import time\n",
    "\n",
    "# Generate a random softmax weight matrix and use it to compute the loss.\n",
    "W = np.random.randn(3073, 10) * 0.0001\n",
    "loss, grad = softmax_loss_naive(W, X_dev, y_dev, 0.0)\n",
    "\n",
    "# As a rough sanity check, our loss should be something close to -log(0.1).\n",
    "print('loss: %f' % loss)\n",
    "print('sanity check: %f' % (-np.log(0.1)))"
   ]
  },
  {
   "cell_type": "markdown",
   "metadata": {},
   "source": [
    "## Inline Question 1:\n",
    "Why do we expect our loss to be close to -log(0.1)? Explain briefly.**\n",
    "\n",
    "**Your answer:** *Fill this in*\n"
   ]
  },
  {
   "cell_type": "code",
   "execution_count": 23,
   "metadata": {},
   "outputs": [
    {
     "name": "stdout",
     "output_type": "stream",
     "text": [
      "numerical: -1.883386 analytic: -1.883386, relative error: 1.870663e-08\n",
      "numerical: -0.870016 analytic: -0.870016, relative error: 2.597706e-08\n",
      "numerical: 3.397029 analytic: 3.397029, relative error: 4.184047e-09\n",
      "numerical: -0.611309 analytic: -0.611309, relative error: 1.341143e-08\n",
      "numerical: 2.867559 analytic: 2.867559, relative error: 2.729585e-09\n",
      "numerical: -1.217717 analytic: -1.217717, relative error: 1.332269e-08\n",
      "numerical: -0.182819 analytic: -0.182819, relative error: 7.922723e-08\n",
      "numerical: 1.967240 analytic: 1.967240, relative error: 3.321239e-09\n",
      "numerical: -0.102763 analytic: -0.102763, relative error: 2.721225e-07\n",
      "numerical: -0.049947 analytic: -0.049948, relative error: 6.300815e-07\n",
      "numerical: 1.566944 analytic: 1.566944, relative error: 4.848967e-08\n",
      "numerical: -1.274094 analytic: -1.274094, relative error: 2.286465e-08\n",
      "numerical: -0.332825 analytic: -0.332825, relative error: 8.570988e-10\n",
      "numerical: 1.272797 analytic: 1.272797, relative error: 2.442382e-08\n",
      "numerical: 2.349664 analytic: 2.349664, relative error: 3.056891e-08\n",
      "numerical: 1.818091 analytic: 1.818091, relative error: 2.801043e-09\n",
      "numerical: 0.081558 analytic: 0.081558, relative error: 7.741646e-07\n",
      "numerical: 1.854032 analytic: 1.854032, relative error: 1.705754e-08\n",
      "numerical: 0.093083 analytic: 0.093083, relative error: 1.134085e-07\n",
      "numerical: -4.039560 analytic: -4.039560, relative error: 7.677827e-09\n"
     ]
    }
   ],
   "source": [
    "# Complete the implementation of softmax_loss_naive and implement a (naive)\n",
    "# version of the gradient that uses nested loops.\n",
    "loss, grad = softmax_loss_naive(W, X_dev, y_dev, 0.0)\n",
    "\n",
    "# As we did for the SVM, use numeric gradient checking as a debugging tool.\n",
    "# The numeric gradient should be close to the analytic gradient.\n",
    "from cs231n.gradient_check import grad_check_sparse\n",
    "f = lambda w: softmax_loss_naive(w, X_dev, y_dev, 0.0)[0]\n",
    "grad_numerical = grad_check_sparse(f, W, grad, 10)\n",
    "\n",
    "# similar to SVM case, do another gradient check with regularization\n",
    "loss, grad = softmax_loss_naive(W, X_dev, y_dev, 5e1)\n",
    "f = lambda w: softmax_loss_naive(w, X_dev, y_dev, 5e1)[0]\n",
    "grad_numerical = grad_check_sparse(f, W, grad, 10)"
   ]
  },
  {
   "cell_type": "code",
   "execution_count": 40,
   "metadata": {},
   "outputs": [
    {
     "name": "stdout",
     "output_type": "stream",
     "text": [
      "naive loss: 2.328692e+00 computed in 0.125080s\n",
      "vectorized loss: 2.328692e+00 computed in 0.006005s\n",
      "Loss difference: 0.000000\n",
      "Gradient difference: 0.000000\n"
     ]
    }
   ],
   "source": [
    "# Now that we have a naive implementation of the softmax loss function and its gradient,\n",
    "# implement a vectorized version in softmax_loss_vectorized.\n",
    "# The two versions should compute the same results, but the vectorized version should be\n",
    "# much faster.\n",
    "tic = time.time()\n",
    "loss_naive, grad_naive = softmax_loss_naive(W, X_dev, y_dev, 0.000005)\n",
    "toc = time.time()\n",
    "print('naive loss: %e computed in %fs' % (loss_naive, toc - tic))\n",
    "\n",
    "from cs231n.classifiers.softmax import softmax_loss_vectorized\n",
    "tic = time.time()\n",
    "loss_vectorized, grad_vectorized = softmax_loss_vectorized(W, X_dev, y_dev, 0.000005)\n",
    "toc = time.time()\n",
    "print('vectorized loss: %e computed in %fs' % (loss_vectorized, toc - tic))\n",
    "\n",
    "# As we did for the SVM, we use the Frobenius norm to compare the two versions\n",
    "# of the gradient.\n",
    "grad_difference = np.linalg.norm(grad_naive - grad_vectorized, ord='fro')\n",
    "print('Loss difference: %f' % np.abs(loss_naive - loss_vectorized))\n",
    "print('Gradient difference: %f' % grad_difference)"
   ]
  },
  {
   "cell_type": "code",
   "execution_count": 43,
   "metadata": {},
   "outputs": [
    {
     "name": "stdout",
     "output_type": "stream",
     "text": [
      "iteration 0 / 1500: loss 5.961518\n",
      "iteration 100 / 1500: loss 4.025762\n",
      "iteration 200 / 1500: loss 3.599580\n",
      "iteration 300 / 1500: loss 3.346881\n",
      "iteration 400 / 1500: loss 3.452075\n",
      "iteration 500 / 1500: loss 3.031767\n",
      "iteration 600 / 1500: loss 2.848324\n",
      "iteration 700 / 1500: loss 2.886487\n",
      "iteration 800 / 1500: loss 2.555020\n",
      "iteration 900 / 1500: loss 2.522501\n",
      "iteration 1000 / 1500: loss 2.607476\n",
      "iteration 1100 / 1500: loss 2.680281\n",
      "iteration 1200 / 1500: loss 2.516634\n",
      "iteration 1300 / 1500: loss 2.589902\n",
      "iteration 1400 / 1500: loss 2.832554\n",
      "iteration 0 / 1500: loss 5.273671\n",
      "iteration 100 / 1500: loss 3.713107\n",
      "iteration 200 / 1500: loss 3.442738\n",
      "iteration 300 / 1500: loss 3.361339\n",
      "iteration 400 / 1500: loss 3.156883\n",
      "iteration 500 / 1500: loss 2.892327\n",
      "iteration 600 / 1500: loss 2.948057\n",
      "iteration 700 / 1500: loss 2.903386\n",
      "iteration 800 / 1500: loss 2.723644\n",
      "iteration 900 / 1500: loss 3.037508\n",
      "iteration 1000 / 1500: loss 2.802990\n",
      "iteration 1100 / 1500: loss 2.911922\n",
      "iteration 1200 / 1500: loss 2.308846\n",
      "iteration 1300 / 1500: loss 2.766643\n",
      "iteration 1400 / 1500: loss 2.437755\n",
      "iteration 0 / 1500: loss 5.735223\n",
      "iteration 100 / 1500: loss 2.940267\n",
      "iteration 200 / 1500: loss 2.759127\n",
      "iteration 300 / 1500: loss 2.383351\n",
      "iteration 400 / 1500: loss 2.484118\n",
      "iteration 500 / 1500: loss 2.290546\n",
      "iteration 600 / 1500: loss 2.094463\n",
      "iteration 700 / 1500: loss 2.314338\n",
      "iteration 800 / 1500: loss 2.185987\n",
      "iteration 900 / 1500: loss 2.367204\n",
      "iteration 1000 / 1500: loss 2.030311\n",
      "iteration 1100 / 1500: loss 2.015906\n",
      "iteration 1200 / 1500: loss 2.062253\n",
      "iteration 1300 / 1500: loss 2.178734\n",
      "iteration 1400 / 1500: loss 2.206772\n",
      "iteration 0 / 1500: loss 5.195627\n",
      "iteration 100 / 1500: loss 3.586667\n",
      "iteration 200 / 1500: loss 2.775715\n",
      "iteration 300 / 1500: loss 2.492130\n",
      "iteration 400 / 1500: loss 2.285981\n",
      "iteration 500 / 1500: loss 2.331858\n",
      "iteration 600 / 1500: loss 2.320350\n",
      "iteration 700 / 1500: loss 2.189243\n",
      "iteration 800 / 1500: loss 2.244552\n",
      "iteration 900 / 1500: loss 2.120304\n",
      "iteration 1000 / 1500: loss 2.080586\n",
      "iteration 1100 / 1500: loss 2.117701\n",
      "iteration 1200 / 1500: loss 2.082303\n",
      "iteration 1300 / 1500: loss 2.143296\n",
      "iteration 1400 / 1500: loss 2.226257\n",
      "lr 1.000000e-07 reg 2.500000e+04 train accuracy: 0.252714 val accuracy: 0.235000\n",
      "lr 1.000000e-07 reg 5.000000e+04 train accuracy: 0.247633 val accuracy: 0.258000\n",
      "lr 5.000000e-07 reg 2.500000e+04 train accuracy: 0.315776 val accuracy: 0.311000\n",
      "lr 5.000000e-07 reg 5.000000e+04 train accuracy: 0.315776 val accuracy: 0.310000\n",
      "best validation accuracy achieved during cross-validation: 0.311000\n"
     ]
    }
   ],
   "source": [
    "# Use the validation set to tune hyperparameters (regularization strength and\n",
    "# learning rate). You should experiment with different ranges for the learning\n",
    "# rates and regularization strengths; if you are careful you should be able to\n",
    "# get a classification accuracy of over 0.35 on the validation set.\n",
    "from cs231n.classifiers import Softmax\n",
    "results = {}\n",
    "best_val = -1\n",
    "best_softmax = None\n",
    "learning_rates = [1e-7, 5e-7]\n",
    "regularization_strengths = [2.5e4, 5e4]\n",
    "\n",
    "################################################################################\n",
    "# TODO:                                                                        #\n",
    "# Use the validation set to set the learning rate and regularization strength. #\n",
    "# This should be identical to the validation that you did for the SVM; save    #\n",
    "# the best trained softmax classifer in best_softmax.                          #\n",
    "################################################################################\n",
    "for learning_rate in learning_rates:\n",
    "    for reg in regularization_strengths:\n",
    "        softmax = Softmax()\n",
    "        softmax.train(X_train, y_train, learning_rate=learning_rate, reg=reg,num_iters=1500, verbose=True)\n",
    "        y_train_pred = softmax.predict(X_train)\n",
    "        y_val_pred = softmax.predict(X_val)\n",
    "        y_train_val=np.mean(y_train == y_train_pred)\n",
    "        y_val_val=np.mean(y_val == y_val_pred)\n",
    "        results[(learning_rate,reg)]=(y_train_val,y_val_val)\n",
    "        if best_val<y_val_val:\n",
    "            best_val=y_val_val\n",
    "            best_softmax=softmax\n",
    "################################################################################\n",
    "#                              END OF YOUR CODE                                #\n",
    "################################################################################\n",
    "    \n",
    "# Print out results.\n",
    "for lr, reg in sorted(results):\n",
    "    train_accuracy, val_accuracy = results[(lr, reg)]\n",
    "    print('lr %e reg %e train accuracy: %f val accuracy: %f' % (\n",
    "                lr, reg, train_accuracy, val_accuracy))\n",
    "    \n",
    "print('best validation accuracy achieved during cross-validation: %f' % best_val)"
   ]
  },
  {
   "cell_type": "code",
   "execution_count": 44,
   "metadata": {},
   "outputs": [
    {
     "name": "stdout",
     "output_type": "stream",
     "text": [
      "softmax on raw pixels final test set accuracy: 0.301000\n"
     ]
    }
   ],
   "source": [
    "# evaluate on test set\n",
    "# Evaluate the best softmax on test set\n",
    "y_test_pred = best_softmax.predict(X_test)\n",
    "test_accuracy = np.mean(y_test == y_test_pred)\n",
    "print('softmax on raw pixels final test set accuracy: %f' % (test_accuracy, ))"
   ]
  },
  {
   "cell_type": "code",
   "execution_count": 45,
   "metadata": {},
   "outputs": [
    {
     "data": {
      "image/png": "[encoded data removed]",
      "text/plain": [
       "<matplotlib.figure.Figure at 0x18d01a37780>"
      ]
     },
     "metadata": {},
     "output_type": "display_data"
    }
   ],
   "source": [
    "# Visualize the learned weights for each class\n",
    "w = best_softmax.W[:-1,:] # strip out the bias\n",
    "w = w.reshape(32, 32, 3, 10)\n",
    "\n",
    "w_min, w_max = np.min(w), np.max(w)\n",
    "\n",
    "classes = ['plane', 'car', 'bird', 'cat', 'deer', 'dog', 'frog', 'horse', 'ship', 'truck']\n",
    "for i in range(10):\n",
    "    plt.subplot(2, 5, i + 1)\n",
    "    \n",
    "    # Rescale the weights to be between 0 and 255\n",
    "    wimg = 255.0 * (w[:, :, :, i].squeeze() - w_min) / (w_max - w_min)\n",
    "    plt.imshow(wimg.astype('uint8'))\n",
    "    plt.axis('off')\n",
    "    plt.title(classes[i])"
   ]
  }
 ],
 "metadata": {
  "kernelspec": {
   "display_name": "Python 3",
   "language": "python",
   "name": "python3"
  },
  "language_info": {
   "codemirror_mode": {
    "name": "ipython",
    "version": 3
   },
   "file_extension": ".py",
   "mimetype": "text/x-python",
   "name": "python",
   "nbconvert_exporter": "python",
   "pygments_lexer": "ipython3",
   "version": "3.5.4"
  }
 },
 "nbformat": 4,
 "nbformat_minor": 1
}
